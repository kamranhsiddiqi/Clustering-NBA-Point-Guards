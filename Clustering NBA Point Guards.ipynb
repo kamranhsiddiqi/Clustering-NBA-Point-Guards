{
 "cells": [
  {
   "cell_type": "code",
   "execution_count": 1,
   "metadata": {
    "collapsed": true
   },
   "outputs": [],
   "source": [
    "#load the data\n",
    "import pandas as pd\n",
    "nba = pd.read_csv(\"nba_2013.csv\")"
   ]
  },
  {
   "cell_type": "code",
   "execution_count": 2,
   "metadata": {},
   "outputs": [
    {
     "name": "stdout",
     "output_type": "stream",
     "text": [
      "          player pos  age bref_team_id   g  gs    mp   fg   fga    fg.  \\\n",
      "0     Quincy Acy  SF   23          TOT  63   0   847   66   141  0.468   \n",
      "1   Steven Adams   C   20          OKC  81  20  1197   93   185  0.503   \n",
      "2    Jeff Adrien  PF   27          TOT  53  12   961  143   275  0.520   \n",
      "3  Arron Afflalo  SG   28          ORL  73  73  2552  464  1011  0.459   \n",
      "4  Alexis Ajinca   C   25          NOP  56  30   951  136   249  0.546   \n",
      "\n",
      "      ...      drb  trb  ast  stl  blk  tov   pf   pts     season  season_end  \n",
      "0     ...      144  216   28   23   26   30  122   171  2013-2014        2013  \n",
      "1     ...      190  332   43   40   57   71  203   265  2013-2014        2013  \n",
      "2     ...      204  306   38   24   36   39  108   362  2013-2014        2013  \n",
      "3     ...      230  262  248   35    3  146  136  1330  2013-2014        2013  \n",
      "4     ...      183  277   40   23   46   63  187   328  2013-2014        2013  \n",
      "\n",
      "[5 rows x 31 columns]\n"
     ]
    }
   ],
   "source": [
    "print nba.head()"
   ]
  },
  {
   "cell_type": "code",
   "execution_count": 3,
   "metadata": {
    "collapsed": true
   },
   "outputs": [],
   "source": [
    "#lets focus our analysis on point guards. create a new dataframe with only point guards.\n",
    "point_guards = nba[nba[\"pos\"]==\"PG\"]"
   ]
  },
  {
   "cell_type": "code",
   "execution_count": 4,
   "metadata": {},
   "outputs": [
    {
     "name": "stdout",
     "output_type": "stream",
     "text": [
      "             player pos  age bref_team_id   g  gs    mp   fg  fga    fg.  \\\n",
      "24    D.J. Augustin  PG   26          TOT  71   9  1939  298  718  0.415   \n",
      "29  Leandro Barbosa  PG   31          PHO  20   0   368   56  131  0.427   \n",
      "30       Jose Barea  PG   29          MIN  79   1  1471  254  656  0.387   \n",
      "38   Jerryd Bayless  PG   25          TOT  72  19  1686  248  617  0.402   \n",
      "50      Steve Blake  PG   33          TOT  55  28  1498  133  353  0.377   \n",
      "\n",
      "       ...      drb  trb  ast  stl  blk  tov   pf  pts     season  season_end  \n",
      "24     ...      115  130  313   53    3  125  147  930  2013-2014        2013  \n",
      "29     ...       32   37   32    7    4   19   30  150  2013-2014        2013  \n",
      "30     ...      138  154  303   26    0  125  129  660  2013-2014        2013  \n",
      "38     ...      123  145  194   60    9   82  161  666  2013-2014        2013  \n",
      "50     ...      146  159  307   54    8  102   85  378  2013-2014        2013  \n",
      "\n",
      "[5 rows x 31 columns]\n"
     ]
    }
   ],
   "source": [
    "print point_guards.head()"
   ]
  },
  {
   "cell_type": "code",
   "execution_count": 5,
   "metadata": {},
   "outputs": [
    {
     "name": "stdout",
     "output_type": "stream",
     "text": [
      "# of records before removing rows with g=0 and/or tov = 0:  85\n",
      "# of records after removing rows with g=0 and/or tov = 0:  82\n"
     ]
    }
   ],
   "source": [
    "#we can choose multiple features to cluster on but keep in mind that when it comes to visualizing clusters on a chart we can only visualize at most 3 features (using 3-dimensional chart).  If more than 3 features are used in the analysis then principal compenent analysis will be need to be done in order to reduce the dimensions so that the clusters can be visaluzed on a chart. \n",
    "#in this case let's choose the following 2 features for our analysis: (1) assist turnover ratio = # of assists / # of turnover, and (2) points per game = # of points / # of games\n",
    "\n",
    "#first because we cannot divide by 0, include only those rows where g != 0 and tov != 0\n",
    "print \"# of records before removing rows with g=0 and/or tov = 0: \", len(point_guards)\n",
    "point_guards=point_guards[point_guards[\"g\"] != 0]\n",
    "point_guards=point_guards[point_guards[\"tov\"] != 0]\n",
    "print \"# of records after removing rows with g=0 and/or tov = 0: \", len(point_guards)\n",
    "\n",
    "point_guards[\"ppg\"]=point_guards[\"pts\"]/point_guards[\"g\"]\n",
    "point_guards[\"atr\"]=point_guards[\"ast\"]/point_guards[\"tov\"]"
   ]
  },
  {
   "cell_type": "code",
   "execution_count": 6,
   "metadata": {},
   "outputs": [
    {
     "name": "stdout",
     "output_type": "stream",
     "text": [
      "             player pos  age bref_team_id   g  gs    mp   fg  fga    fg.  \\\n",
      "24    D.J. Augustin  PG   26          TOT  71   9  1939  298  718  0.415   \n",
      "29  Leandro Barbosa  PG   31          PHO  20   0   368   56  131  0.427   \n",
      "30       Jose Barea  PG   29          MIN  79   1  1471  254  656  0.387   \n",
      "38   Jerryd Bayless  PG   25          TOT  72  19  1686  248  617  0.402   \n",
      "50      Steve Blake  PG   33          TOT  55  28  1498  133  353  0.377   \n",
      "\n",
      "      ...     ast  stl  blk  tov   pf  pts     season  season_end        ppg  \\\n",
      "24    ...     313   53    3  125  147  930  2013-2014        2013  13.098592   \n",
      "29    ...      32    7    4   19   30  150  2013-2014        2013   7.500000   \n",
      "30    ...     303   26    0  125  129  660  2013-2014        2013   8.354430   \n",
      "38    ...     194   60    9   82  161  666  2013-2014        2013   9.250000   \n",
      "50    ...     307   54    8  102   85  378  2013-2014        2013   6.872727   \n",
      "\n",
      "         atr  \n",
      "24  2.504000  \n",
      "29  1.684211  \n",
      "30  2.424000  \n",
      "38  2.365854  \n",
      "50  3.009804  \n",
      "\n",
      "[5 rows x 33 columns]\n"
     ]
    }
   ],
   "source": [
    "print point_guards.head()"
   ]
  },
  {
   "cell_type": "code",
   "execution_count": 7,
   "metadata": {},
   "outputs": [
    {
     "data": {
      "image/png": "[encoded data removed]",
      "text/plain": [
       "<matplotlib.figure.Figure at 0xbbc0dd8>"
      ]
     },
     "metadata": {},
     "output_type": "display_data"
    }
   ],
   "source": [
    "#lets plot the features to see how many clusters we can identify by looking at the plot\n",
    "import matplotlib.pyplot as plt\n",
    "plt.scatter(x=point_guards[\"ppg\"],y=point_guards[\"atr\"],c='y')\n",
    "plt.title(\"Point Guards\")\n",
    "plt.xlabel(\"Points Per Game\")\n",
    "plt.ylabel(\"Assist Turnover Ratio\")\n",
    "plt.show()"
   ]
  },
  {
   "cell_type": "code",
   "execution_count": 8,
   "metadata": {},
   "outputs": [
    {
     "name": "stdout",
     "output_type": "stream",
     "text": [
      "                      player pos  age bref_team_id   g  gs    mp   fg   fga  \\\n",
      "50               Steve Blake  PG   33          TOT  55  28  1498  133   353   \n",
      "423            Isaiah Thomas  PG   24          SAC  72  54  2497  496  1096   \n",
      "455              Earl Watson  PG   34          POR  24   0   161    3    11   \n",
      "85   Michael Carter-Williams  PG   22          PHI  70  70  2414  427  1054   \n",
      "357             Phil Pressey  PG   22          BOS  75  11  1132   78   253   \n",
      "\n",
      "       fg.    ...     ast  stl  blk  tov   pf   pts     season  season_end  \\\n",
      "50   0.377    ...     307   54    8  102   85   378  2013-2014        2013   \n",
      "423  0.453    ...     454   93    8  213  185  1465  2013-2014        2013   \n",
      "455  0.273    ...      28    5    1   17   33    12  2013-2014        2013   \n",
      "85   0.405    ...     441  130   43  247  213  1167  2013-2014        2013   \n",
      "357  0.308    ...     241   68    5   87   97   213  2013-2014        2013   \n",
      "\n",
      "           ppg       atr  \n",
      "50    6.872727  3.009804  \n",
      "423  20.347222  2.131455  \n",
      "455   0.500000  1.647059  \n",
      "85   16.671429  1.785425  \n",
      "357   2.840000  2.770115  \n",
      "\n",
      "[5 rows x 33 columns]\n"
     ]
    }
   ],
   "source": [
    "#from looking at the plot, it looks like there are 5 clusters\n",
    "#next, let's choose 5 different random points on the plot, which will represent the 5 centroids of the 5 clusters\n",
    "\n",
    "#https://stackoverflow.com/questions/22842289/generate-n-unique-random-numbers-within-a-range\n",
    "def initial_centroids(df):\n",
    "    import random\n",
    "    initial_centroid_index = random.sample(range(0,len(point_guards)),5)\n",
    "    return df.iloc[initial_centroid_index]\n",
    "\n",
    "centroids_df = initial_centroids(point_guards)\n",
    "print centroids_df"
   ]
  },
  {
   "cell_type": "code",
   "execution_count": 9,
   "metadata": {},
   "outputs": [
    {
     "data": {
      "image/png": "[encoded data removed]",
      "text/plain": [
       "<matplotlib.figure.Figure at 0xccf54a8>"
      ]
     },
     "metadata": {},
     "output_type": "display_data"
    },
    {
     "name": "stdout",
     "output_type": "stream",
     "text": [
      "50      6.872727\n",
      "423    20.347222\n",
      "455     0.500000\n",
      "85     16.671429\n",
      "357     2.840000\n",
      "Name: ppg, dtype: float64 50     3.009804\n",
      "423    2.131455\n",
      "455    1.647059\n",
      "85     1.785425\n",
      "357    2.770115\n",
      "Name: atr, dtype: float64\n"
     ]
    }
   ],
   "source": [
    "#lets plot the centroids as well\n",
    "plt.scatter(x=point_guards[\"ppg\"],y=point_guards[\"atr\"],c='y')\n",
    "plt.scatter(x=centroids_df['ppg'],y=centroids_df['atr'], c='r')\n",
    "plt.title(\"Point Guards\")\n",
    "plt.xlabel(\"Points Per Game\")\n",
    "plt.ylabel(\"Assist Turnover Ratio\")\n",
    "plt.show()\n",
    "print centroids_df['ppg'],centroids_df['atr']"
   ]
  },
  {
   "cell_type": "code",
   "execution_count": 10,
   "metadata": {},
   "outputs": [
    {
     "name": "stdout",
     "output_type": "stream",
     "text": [
      "{0: [6.872727272727273, 3.0098039215686274], 1: [20.347222222222221, 2.131455399061033], 2: [0.5, 1.6470588235294117], 3: [16.671428571428571, 1.785425101214575], 4: [2.8399999999999999, 2.7701149425287355]}\n"
     ]
    }
   ],
   "source": [
    "#In K-means clustering, the centroid coordinates are recalculated each time until the clusters are no longer moving.  so create a dictionary to track the centroid's coordinates.\n",
    "def create_centroid_dict(centroids_df):\n",
    "    centroids_coordinates = {}\n",
    "    for i in range(0,len(centroids_df)):\n",
    "        centroids_coordinates[i] = [centroids_df[\"ppg\"].iloc[i],centroids_df[\"atr\"].iloc[i]]\n",
    "    return centroids_coordinates\n",
    "        \n",
    "centroids_coordinates = create_centroid_dict(centroids_df)\n",
    "print centroids_coordinates"
   ]
  },
  {
   "cell_type": "code",
   "execution_count": 11,
   "metadata": {
    "collapsed": true
   },
   "outputs": [],
   "source": [
    "#First step in K-means clustering is to calculate euclidean distance between the records and the centroids.  this step will be repeated so let's create a function so that it can called upon again and again.\n",
    "def calculate_distance(centroid_coordinate,record_coordinate):\n",
    "    squared_distance=0\n",
    "    for i in range(0,len(centroid_coordinate)):\n",
    "        squared_distance += (centroid_coordinate[i]-record_coordinate[i])**2\n",
    "    return squared_distance**(0.5)"
   ]
  },
  {
   "cell_type": "code",
   "execution_count": 12,
   "metadata": {},
   "outputs": [
    {
     "name": "stdout",
     "output_type": "stream",
     "text": [
      "             player pos  age bref_team_id   g  gs    mp   fg  fga    fg.  \\\n",
      "24    D.J. Augustin  PG   26          TOT  71   9  1939  298  718  0.415   \n",
      "29  Leandro Barbosa  PG   31          PHO  20   0   368   56  131  0.427   \n",
      "30       Jose Barea  PG   29          MIN  79   1  1471  254  656  0.387   \n",
      "38   Jerryd Bayless  PG   25          TOT  72  19  1686  248  617  0.402   \n",
      "50      Steve Blake  PG   33          TOT  55  28  1498  133  353  0.377   \n",
      "\n",
      "     ...     stl  blk  tov   pf  pts     season  season_end        ppg  \\\n",
      "24   ...      53    3  125  147  930  2013-2014        2013  13.098592   \n",
      "29   ...       7    4   19   30  150  2013-2014        2013   7.500000   \n",
      "30   ...      26    0  125  129  660  2013-2014        2013   8.354430   \n",
      "38   ...      60    9   82  161  666  2013-2014        2013   9.250000   \n",
      "50   ...      54    8  102   85  378  2013-2014        2013   6.872727   \n",
      "\n",
      "         atr  cluster  \n",
      "24  2.504000        3  \n",
      "29  1.684211        0  \n",
      "30  2.424000        0  \n",
      "38  2.365854        0  \n",
      "50  3.009804        0  \n",
      "\n",
      "[5 rows x 34 columns]\n"
     ]
    }
   ],
   "source": [
    "#the row/record will be assigned to the cluster that it is closest to (i.e. lowest distance).  so, let's create a column called cluster that will contain the cluster number the record belongs.   this step will be repeated so let's create a function so that it can called upon again and again.\n",
    "def assign_cluster(row):\n",
    "    lowest_distance = -1 #initialize distance = -1 so that each time a new row/record is loaded into this assign_cluster function, the distance will be reset\n",
    "    for cluster_id, centroid_coordinate in centroids_coordinates.items():\n",
    "        if lowest_distance == -1: #this will execute only once per row because the lowest_distance will change from -1 in the next line\n",
    "            lowest_distance = calculate_distance(centroid_coordinate,[row[\"ppg\"],row[\"atr\"]])\n",
    "            closest_cluster = cluster_id\n",
    "        elif calculate_distance(centroid_coordinate,[row[\"ppg\"],row[\"atr\"]]) < lowest_distance:\n",
    "            lowest_distance = calculate_distance(centroid_coordinate,[row[\"ppg\"],row[\"atr\"]])\n",
    "            closest_cluster = cluster_id\n",
    "    return closest_cluster\n",
    "\n",
    "def assign_clusters(df):\n",
    "    df[\"cluster\"]=df.apply(lambda row: assign_cluster(row),axis='columns') #explanation of axis https://www.youtube.com/watch?v=PtO3t6ynH-8.\n",
    "\n",
    "assign_clusters(point_guards)\n",
    "print point_guards.head()"
   ]
  },
  {
   "cell_type": "code",
   "execution_count": 13,
   "metadata": {},
   "outputs": [
    {
     "data": {
      "text/plain": [
       "False"
      ]
     },
     "execution_count": 13,
     "metadata": {},
     "output_type": "execute_result"
    }
   ],
   "source": [
    "\n",
    "d = {'col1': [1,2, 3], 'col2': [1,2, 4]}\n",
    "df = pd.DataFrame(data=d)\n",
    "#print df\n",
    "#print \"axis=1 or axis=columns\"\n",
    "#print df.mean(axis=1)\n",
    "#print \"axis=0 or axis=rows\"\n",
    "#print df.mean(axis=0)\n",
    "#print df.apply(lambda x: x**2,axis=1)\n",
    "#print (df[\"col1\"]/df[df[\"col2\"]!=0])\n",
    "(df[\"col1\"]==df[\"col2\"]).all()"
   ]
  },
  {
   "cell_type": "code",
   "execution_count": 14,
   "metadata": {},
   "outputs": [
    {
     "data": {
      "image/png": "[encoded data removed]",
      "text/plain": [
       "<matplotlib.figure.Figure at 0xcbfcac8>"
      ]
     },
     "metadata": {},
     "output_type": "display_data"
    }
   ],
   "source": [
    "#visualize the clusters\n",
    "def visualize_clusters(df):\n",
    "    colours = ['b', 'g', 'r', 'c', 'm']\n",
    "    for cluster_id in range(0,df['cluster'].max()+1):\n",
    "        clustered_df = df[df[\"cluster\"]==cluster_id]\n",
    "        plt.scatter(x=clustered_df[\"ppg\"],y=clustered_df[\"atr\"],c=colours[cluster_id])\n",
    "    plt.xlabel(\"Points Per Game\")\n",
    "    plt.ylabel(\"Assist Turnover Ratio\")\n",
    "    plt.show()\n",
    "    \n",
    "visualize_clusters(point_guards)"
   ]
  },
  {
   "cell_type": "code",
   "execution_count": 15,
   "metadata": {},
   "outputs": [
    {
     "name": "stdout",
     "output_type": "stream",
     "text": [
      "{0: [8.580451991036176, 2.4874653388871435], 1: [20.63405700811901, 2.4558021154262044], 2: [0.7395833333333333, 2.4006535947712417], 3: [15.261156545685921, 2.2549111593749], 4: [3.595372944485266, 1.9166757327807673]}\n"
     ]
    }
   ],
   "source": [
    "#recalculate centroids\n",
    "def recalculate_centroids(df):\n",
    "    for cluster_id in range(0,df['cluster'].max()+1):\n",
    "        clustered_df = df[df[\"cluster\"]==cluster_id]\n",
    "        centroids_coordinates[cluster_id] = [clustered_df[\"ppg\"].mean(),clustered_df[\"atr\"].mean()]\n",
    "    return centroids_coordinates\n",
    "\n",
    "centroids_coordinates = recalculate_centroids(point_guards)\n",
    "print centroids_coordinates"
   ]
  },
  {
   "cell_type": "code",
   "execution_count": 16,
   "metadata": {},
   "outputs": [
    {
     "data": {
      "image/png": "[encoded data removed]",
      "text/plain": [
       "<matplotlib.figure.Figure at 0xc2e5dd8>"
      ]
     },
     "metadata": {},
     "output_type": "display_data"
    }
   ],
   "source": [
    "#visualize the new clusters\n",
    "visualize_clusters(point_guards)"
   ]
  },
  {
   "cell_type": "code",
   "execution_count": 17,
   "metadata": {},
   "outputs": [
    {
     "data": {
      "image/png": "[encoded data removed]",
      "text/plain": [
       "<matplotlib.figure.Figure at 0xdaeea20>"
      ]
     },
     "metadata": {},
     "output_type": "display_data"
    }
   ],
   "source": [
    "#keep recalculating the centroids and assigning clusters until the clusters no longer change (i.e. the points on the graph stay the same colour)\n",
    "recalculate_centroids(point_guards)\n",
    "assign_clusters(point_guards)\n",
    "visualize_clusters(point_guards)"
   ]
  },
  {
   "cell_type": "code",
   "execution_count": null,
   "metadata": {
    "collapsed": true
   },
   "outputs": [],
   "source": []
  }
 ],
 "metadata": {
  "kernelspec": {
   "display_name": "Python 2",
   "language": "python",
   "name": "python2"
  },
  "language_info": {
   "codemirror_mode": {
    "name": "ipython",
    "version": 2
   },
   "file_extension": ".py",
   "mimetype": "text/x-python",
   "name": "python",
   "nbconvert_exporter": "python",
   "pygments_lexer": "ipython2",
   "version": "2.7.14"
  }
 },
 "nbformat": 4,
 "nbformat_minor": 2
}
