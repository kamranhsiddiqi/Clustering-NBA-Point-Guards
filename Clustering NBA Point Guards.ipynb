{
 "cells": [
  {
   "cell_type": "code",
   "execution_count": 81,
   "metadata": {
    "collapsed": true
   },
   "outputs": [],
   "source": [
    "#load the data\n",
    "import pandas as pd\n",
    "nba = pd.read_csv(\"nba_2013.csv\")"
   ]
  },
  {
   "cell_type": "code",
   "execution_count": 82,
   "metadata": {},
   "outputs": [
    {
     "name": "stdout",
     "output_type": "stream",
     "text": [
      "          player pos  age bref_team_id   g  gs    mp   fg   fga    fg.  \\\n",
      "0     Quincy Acy  SF   23          TOT  63   0   847   66   141  0.468   \n",
      "1   Steven Adams   C   20          OKC  81  20  1197   93   185  0.503   \n",
      "2    Jeff Adrien  PF   27          TOT  53  12   961  143   275  0.520   \n",
      "3  Arron Afflalo  SG   28          ORL  73  73  2552  464  1011  0.459   \n",
      "4  Alexis Ajinca   C   25          NOP  56  30   951  136   249  0.546   \n",
      "\n",
      "      ...      drb  trb  ast  stl  blk  tov   pf   pts     season  season_end  \n",
      "0     ...      144  216   28   23   26   30  122   171  2013-2014        2013  \n",
      "1     ...      190  332   43   40   57   71  203   265  2013-2014        2013  \n",
      "2     ...      204  306   38   24   36   39  108   362  2013-2014        2013  \n",
      "3     ...      230  262  248   35    3  146  136  1330  2013-2014        2013  \n",
      "4     ...      183  277   40   23   46   63  187   328  2013-2014        2013  \n",
      "\n",
      "[5 rows x 31 columns]\n"
     ]
    }
   ],
   "source": [
    "print nba.head()"
   ]
  },
  {
   "cell_type": "code",
   "execution_count": 83,
   "metadata": {
    "collapsed": true
   },
   "outputs": [],
   "source": [
    "#lets focus our analysis on point guards. create a new dataframe with only point guards.\n",
    "point_guards = nba[nba[\"pos\"]==\"PG\"]"
   ]
  },
  {
   "cell_type": "code",
   "execution_count": 84,
   "metadata": {},
   "outputs": [
    {
     "name": "stdout",
     "output_type": "stream",
     "text": [
      "             player pos  age bref_team_id   g  gs    mp   fg  fga    fg.  \\\n",
      "24    D.J. Augustin  PG   26          TOT  71   9  1939  298  718  0.415   \n",
      "29  Leandro Barbosa  PG   31          PHO  20   0   368   56  131  0.427   \n",
      "30       Jose Barea  PG   29          MIN  79   1  1471  254  656  0.387   \n",
      "38   Jerryd Bayless  PG   25          TOT  72  19  1686  248  617  0.402   \n",
      "50      Steve Blake  PG   33          TOT  55  28  1498  133  353  0.377   \n",
      "\n",
      "       ...      drb  trb  ast  stl  blk  tov   pf  pts     season  season_end  \n",
      "24     ...      115  130  313   53    3  125  147  930  2013-2014        2013  \n",
      "29     ...       32   37   32    7    4   19   30  150  2013-2014        2013  \n",
      "30     ...      138  154  303   26    0  125  129  660  2013-2014        2013  \n",
      "38     ...      123  145  194   60    9   82  161  666  2013-2014        2013  \n",
      "50     ...      146  159  307   54    8  102   85  378  2013-2014        2013  \n",
      "\n",
      "[5 rows x 31 columns]\n"
     ]
    }
   ],
   "source": [
    "print point_guards.head()"
   ]
  },
  {
   "cell_type": "code",
   "execution_count": 85,
   "metadata": {},
   "outputs": [
    {
     "name": "stdout",
     "output_type": "stream",
     "text": [
      "# of records before removing rows with g=0 and/or tov = 0:  85\n",
      "# of records after removing rows with g=0 and/or tov = 0:  82\n"
     ]
    }
   ],
   "source": [
    "#we can choose multiple features to cluster on but keep in mind that when it comes to visualizing clusters on a chart we can only visualize at most 3 features (using 3-dimensional chart).  If more than 3 features are used in the analysis then principal compenent analysis will be need to be done in order to reduce the dimensions so that the clusters can be visaluzed on a chart. \n",
    "#in this case let's choose the following 2 features for our analysis: (1) assist turnover ratio = # of assists / # of turnover, and (2) points per game = # of points / # of games\n",
    "\n",
    "#first because we cannot divide by 0, include only those rows where g != 0 and tov != 0\n",
    "print \"# of records before removing rows with g=0 and/or tov = 0: \", len(point_guards)\n",
    "point_guards=point_guards[point_guards[\"g\"] != 0]\n",
    "point_guards=point_guards[point_guards[\"tov\"] != 0]\n",
    "print \"# of records after removing rows with g=0 and/or tov = 0: \", len(point_guards)\n",
    "\n",
    "point_guards[\"ppg\"]=point_guards[\"pts\"]/point_guards[\"g\"]\n",
    "point_guards[\"atr\"]=point_guards[\"ast\"]/point_guards[\"tov\"]"
   ]
  },
  {
   "cell_type": "code",
   "execution_count": 86,
   "metadata": {},
   "outputs": [
    {
     "name": "stdout",
     "output_type": "stream",
     "text": [
      "             player pos  age bref_team_id   g  gs    mp   fg  fga    fg.  \\\n",
      "24    D.J. Augustin  PG   26          TOT  71   9  1939  298  718  0.415   \n",
      "29  Leandro Barbosa  PG   31          PHO  20   0   368   56  131  0.427   \n",
      "30       Jose Barea  PG   29          MIN  79   1  1471  254  656  0.387   \n",
      "38   Jerryd Bayless  PG   25          TOT  72  19  1686  248  617  0.402   \n",
      "50      Steve Blake  PG   33          TOT  55  28  1498  133  353  0.377   \n",
      "\n",
      "      ...     ast  stl  blk  tov   pf  pts     season  season_end        ppg  \\\n",
      "24    ...     313   53    3  125  147  930  2013-2014        2013  13.098592   \n",
      "29    ...      32    7    4   19   30  150  2013-2014        2013   7.500000   \n",
      "30    ...     303   26    0  125  129  660  2013-2014        2013   8.354430   \n",
      "38    ...     194   60    9   82  161  666  2013-2014        2013   9.250000   \n",
      "50    ...     307   54    8  102   85  378  2013-2014        2013   6.872727   \n",
      "\n",
      "         atr  \n",
      "24  2.504000  \n",
      "29  1.684211  \n",
      "30  2.424000  \n",
      "38  2.365854  \n",
      "50  3.009804  \n",
      "\n",
      "[5 rows x 33 columns]\n"
     ]
    }
   ],
   "source": [
    "print point_guards.head()"
   ]
  },
  {
   "cell_type": "code",
   "execution_count": 87,
   "metadata": {},
   "outputs": [
    {
     "data": {
      "image/png": "[encoded data removed]",
      "text/plain": [
       "<matplotlib.figure.Figure at 0xe95ae10>"
      ]
     },
     "metadata": {},
     "output_type": "display_data"
    }
   ],
   "source": [
    "#lets plot the features to see how many clusters we can identify by looking at the plot\n",
    "import matplotlib.pyplot as plt\n",
    "plt.scatter(x=point_guards[\"ppg\"],y=point_guards[\"atr\"],c='y')\n",
    "plt.title(\"Point Guards\")\n",
    "plt.xlabel(\"Points Per Game\")\n",
    "plt.ylabel(\"Assist Turnover Ratio\")\n",
    "plt.show()"
   ]
  },
  {
   "cell_type": "code",
   "execution_count": 88,
   "metadata": {},
   "outputs": [
    {
     "name": "stdout",
     "output_type": "stream",
     "text": [
      "               player pos  age bref_team_id   g  gs    mp   fg  fga    fg.  \\\n",
      "220      Jarrett Jack  PG   30          CLE  80  31  2252  286  698  0.410   \n",
      "262         Ty Lawson  PG   26          DEN  62  61  2222  347  806  0.431   \n",
      "337    Victor Oladipo  PG   21          ORL  80  44  2487  392  936  0.419   \n",
      "462    Deron Williams  PG   29          BRK  64  58  2059  322  716  0.450   \n",
      "283  Kendall Marshall  PG   22          LAL  54  45  1564  170  419  0.406   \n",
      "\n",
      "       ...     ast  stl  blk  tov   pf   pts     season  season_end  \\\n",
      "220    ...     324   56   22  133  133   760  2013-2014        2013   \n",
      "262    ...     543  100   10  200  113  1090  2013-2014        2013   \n",
      "337    ...     327  129   37  256  210  1106  2013-2014        2013   \n",
      "462    ...     392   93   13  143  148   915  2013-2014        2013   \n",
      "283    ...     477   48    4  150   76   430  2013-2014        2013   \n",
      "\n",
      "           ppg       atr  \n",
      "220   9.500000  2.436090  \n",
      "262  17.580645  2.715000  \n",
      "337  13.825000  1.277344  \n",
      "462  14.296875  2.741259  \n",
      "283   7.962963  3.180000  \n",
      "\n",
      "[5 rows x 33 columns]\n"
     ]
    }
   ],
   "source": [
    "#from looking at the plot, it looks like there are 5 clusters\n",
    "#next, let's choose 5 different random points on the plot, which will represent the 5 centroids of the 5 clusters\n",
    "\n",
    "#https://stackoverflow.com/questions/22842289/generate-n-unique-random-numbers-within-a-range\n",
    "def initial_centroids(df):\n",
    "    import random\n",
    "    initial_centroid_index = random.sample(range(0,len(point_guards)),5)\n",
    "    return df.iloc[initial_centroid_index]\n",
    "\n",
    "centroids_df = initial_centroids(point_guards)\n",
    "print centroids_df"
   ]
  },
  {
   "cell_type": "code",
   "execution_count": 89,
   "metadata": {},
   "outputs": [
    {
     "data": {
      "image/png": "[encoded data removed]",
      "text/plain": [
       "<matplotlib.figure.Figure at 0xed3c4a8>"
      ]
     },
     "metadata": {},
     "output_type": "display_data"
    },
    {
     "name": "stdout",
     "output_type": "stream",
     "text": [
      "220     9.500000\n",
      "262    17.580645\n",
      "337    13.825000\n",
      "462    14.296875\n",
      "283     7.962963\n",
      "Name: ppg, dtype: float64 220    2.436090\n",
      "262    2.715000\n",
      "337    1.277344\n",
      "462    2.741259\n",
      "283    3.180000\n",
      "Name: atr, dtype: float64\n"
     ]
    }
   ],
   "source": [
    "#lets plot the centroids as well\n",
    "plt.scatter(x=point_guards[\"ppg\"],y=point_guards[\"atr\"],c='y')\n",
    "plt.scatter(x=centroids_df['ppg'],y=centroids_df['atr'], c='r')\n",
    "plt.title(\"Point Guards\")\n",
    "plt.xlabel(\"Points Per Game\")\n",
    "plt.ylabel(\"Assist Turnover Ratio\")\n",
    "plt.show()\n",
    "print centroids_df['ppg'],centroids_df['atr']"
   ]
  },
  {
   "cell_type": "code",
   "execution_count": 90,
   "metadata": {},
   "outputs": [
    {
     "name": "stdout",
     "output_type": "stream",
     "text": [
      "{0: [9.5, 2.4360902255639099], 1: [17.580645161290324, 2.7149999999999999], 2: [13.824999999999999, 1.27734375], 3: [14.296875, 2.7412587412587412], 4: [7.9629629629629628, 3.1800000000000002]}\n"
     ]
    }
   ],
   "source": [
    "#In K-means clustering, the centroid coordinates are recalculated each time until the clusters are no longer moving.  so create a dictionary to track the centroid's coordinates.\n",
    "def create_centroid_dict(centroids_df):\n",
    "    centroids_coordinates = {}\n",
    "    for i in range(0,len(centroids_df)):\n",
    "        centroids_coordinates[i] = [centroids_df[\"ppg\"].iloc[i],centroids_df[\"atr\"].iloc[i]]\n",
    "    return centroids_coordinates\n",
    "        \n",
    "centroids_coordinates = create_centroid_dict(centroids_df)\n",
    "print centroids_coordinates"
   ]
  },
  {
   "cell_type": "code",
   "execution_count": 91,
   "metadata": {
    "collapsed": true
   },
   "outputs": [],
   "source": [
    "#First step in K-means clustering is to calculate euclidean distance between the records and the centroids.  this step will be repeated so let's create a function so that it can called upon again and again.\n",
    "def calculate_distance(centroid_coordinate,record_coordinate):\n",
    "    squared_distance=0\n",
    "    for i in range(0,len(centroid_coordinate)):\n",
    "        squared_distance += (centroid_coordinate[i]-record_coordinate[i])**2\n",
    "    return squared_distance**(0.5)"
   ]
  },
  {
   "cell_type": "code",
   "execution_count": 92,
   "metadata": {},
   "outputs": [
    {
     "name": "stdout",
     "output_type": "stream",
     "text": [
      "                      player pos  age bref_team_id   g  gs    mp   fg   fga  \\\n",
      "24             D.J. Augustin  PG   26          TOT  71   9  1939  298   718   \n",
      "29           Leandro Barbosa  PG   31          PHO  20   0   368   56   131   \n",
      "30                Jose Barea  PG   29          MIN  79   1  1471  254   656   \n",
      "38            Jerryd Bayless  PG   25          TOT  72  19  1686  248   617   \n",
      "50               Steve Blake  PG   33          TOT  55  28  1498  133   353   \n",
      "52              Eric Bledsoe  PG   24          PHO  43  40  1416  265   556   \n",
      "60             Avery Bradley  PG   23          BOS  60  58  1855  361   825   \n",
      "64              Aaron Brooks  PG   29          TOT  72  12  1557  233   581   \n",
      "71                Trey Burke  PG   21          UTA  70  68  2262  341   897   \n",
      "76             Dwight Buycks  PG   24          TOR  14   0   146   15    48   \n",
      "78                Will Bynum  PG   31          DET  56   3  1054  184   430   \n",
      "82             Isaiah Canaan  PG   22          HOU  22   0   252   31    87   \n",
      "85   Michael Carter-Williams  PG   22          PHI  70  70  2414  427  1054   \n",
      "87            Mario Chalmers  PG   27          MIA  73  73  2178  254   560   \n",
      "95               Norris Cole  PG   25          MIA  82   6  2014  207   500   \n",
      "97           Darren Collison  PG   26          LAC  80  35  2069  324   694   \n",
      "99               Mike Conley  PG   26          MEM  73  73  2446  463  1030   \n",
      "110            Stephen Curry  PG   25          GSW  78  78  2846  652  1383   \n",
      "126            Toney Douglas  PG   27          TOT  51  17   675   73   190   \n",
      "136              Monta Ellis  PG   28          DAL  82  82  3023  576  1278   \n",
      "142            Jordan Farmar  PG   27          LAL  41   5   912  151   364   \n",
      "146           Raymond Felton  PG   29          NYK  65  65  2017  240   608   \n",
      "157           Diante Garrett  PG   25          UTA  71   0  1048  101   265   \n",
      "180          Jorge Gutierrez  PG   25          BRK  15   2   244   25    54   \n",
      "189             Devin Harris  PG   30          DAL  40   0   818   96   254   \n",
      "204              George Hill  PG   27          IND  76  76  2434  272   616   \n",
      "207             Kirk Hinrich  PG   33          CHI  73  61  2116  243   619   \n",
      "208             Jrue Holiday  PG   23          NOP  34  34  1143  203   454   \n",
      "218             Kyrie Irving  PG   21          CLE  71  71  2496  532  1237   \n",
      "220             Jarrett Jack  PG   30          CLE  80  31  2252  286   698   \n",
      "..                       ...  ..  ...          ...  ..  ..   ...  ...   ...   \n",
      "343            Jannero Pargo  PG   34          CHA  29   0   242   52   118   \n",
      "344              Tony Parker  PG   31          SAS  68  68  1997  456   914   \n",
      "347               Chris Paul  PG   28          LAC  62  62  2171  406   870   \n",
      "357             Phil Pressey  PG   22          BOS  75  11  1132   78   253   \n",
      "360           Pablo Prigioni  PG   36          NYK  66  27  1283   88   191   \n",
      "368             Luke Ridnour  PG   32          TOT  61  14  1141  126   327   \n",
      "371            Brian Roberts  PG   28          NOP  72  42  1667  244   581   \n",
      "372            Nate Robinson  PG   29          DEN  44   1   866  164   383   \n",
      "374              Rajon Rondo  PG   27          BOS  30  30   998  141   350   \n",
      "375             Derrick Rose  PG   25          CHI  10  10   311   58   164   \n",
      "377              Ricky Rubio  PG   23          MIN  82  82  2638  255   670   \n",
      "382          Dennis Schröder  PG   20          ATL  49   0   641   72   188   \n",
      "387           Ramon Sessions  PG   27          TOT  83  19  2214  330   769   \n",
      "388           Mustafa Shakur  PG   29          OKC   3   0    11    0     3   \n",
      "399                Ish Smith  PG   25          PHO  70   1  1006  119   281   \n",
      "415           Tyshawn Taylor  PG   23          BRK  23   3   270   31    91   \n",
      "416              Jeff Teague  PG   25          ATL  79  79  2542  456  1040   \n",
      "420              Jason Terry  PG   36          BRK  35   0   570   55   152   \n",
      "423            Isaiah Thomas  PG   24          SAC  72  54  2497  496  1096   \n",
      "431           Jamaal Tinsley  PG   35          UTA   8   5   110    4    20   \n",
      "450             Kemba Walker  PG   23          CHA  73  73  2614  449  1143   \n",
      "451                John Wall  PG   23          WAS  82  82  2980  579  1337   \n",
      "453              Casper Ware  PG   24          PHI   9   0   116   18    42   \n",
      "454              C.J. Watson  PG   29          IND  63   5  1193  146   334   \n",
      "455              Earl Watson  PG   34          POR  24   0   161    3    11   \n",
      "459        Russell Westbrook  PG   25          OKC  46  46  1412  346   791   \n",
      "462           Deron Williams  PG   29          BRK  64  58  2059  322   716   \n",
      "465           Louis Williams  PG   27          ATL  60   7  1445  197   493   \n",
      "467              Mo Williams  PG   31          POR  74   0  1834  280   672   \n",
      "471             Nate Wolters  PG   22          MIL  58  31  1309  170   389   \n",
      "\n",
      "       fg.   ...     stl  blk  tov   pf   pts     season  season_end  \\\n",
      "24   0.415   ...      53    3  125  147   930  2013-2014        2013   \n",
      "29   0.427   ...       7    4   19   30   150  2013-2014        2013   \n",
      "30   0.387   ...      26    0  125  129   660  2013-2014        2013   \n",
      "38   0.402   ...      60    9   82  161   666  2013-2014        2013   \n",
      "50   0.377   ...      54    8  102   85   378  2013-2014        2013   \n",
      "52   0.477   ...      69   14  143   99   763  2013-2014        2013   \n",
      "60   0.438   ...      63   11   96  145   891  2013-2014        2013   \n",
      "64   0.401   ...      52   13  117  146   645  2013-2014        2013   \n",
      "71   0.380   ...      42    6  131  145   895  2013-2014        2013   \n",
      "76   0.313   ...       8    0   10   11    43  2013-2014        2013   \n",
      "78   0.428   ...      39    7  103  121   485  2013-2014        2013   \n",
      "82   0.356   ...       8    4   21   25   101  2013-2014        2013   \n",
      "85   0.405   ...     130   43  247  213  1167  2013-2014        2013   \n",
      "87   0.454   ...     119   16  162  210   716  2013-2014        2013   \n",
      "95   0.414   ...      77    5  127  156   527  2013-2014        2013   \n",
      "97   0.467   ...      93   15  132  150   911  2013-2014        2013   \n",
      "99   0.450   ...     110   13  150  141  1256  2013-2014        2013   \n",
      "110  0.471   ...     128   14  294  194  1873  2013-2014        2013   \n",
      "126  0.384   ...      19    5   34   81   202  2013-2014        2013   \n",
      "136  0.451   ...     141   23  264  197  1560  2013-2014        2013   \n",
      "142  0.415   ...      38    8   95   65   416  2013-2014        2013   \n",
      "146  0.395   ...      78   27  129  157   630  2013-2014        2013   \n",
      "157  0.381   ...      41    5   75   75   248  2013-2014        2013   \n",
      "180  0.463   ...      10    1   14   37    62  2013-2014        2013   \n",
      "189  0.378   ...      28    2   59   72   315  2013-2014        2013   \n",
      "204  0.442   ...      75   23   92  158   781  2013-2014        2013   \n",
      "207  0.393   ...      80   26  120  203   666  2013-2014        2013   \n",
      "208  0.447   ...      56   12  105   92   487  2013-2014        2013   \n",
      "218  0.430   ...     108   23  190  163  1478  2013-2014        2013   \n",
      "220  0.410   ...      56   22  133  133   760  2013-2014        2013   \n",
      "..     ...   ...     ...  ...  ...  ...   ...        ...         ...   \n",
      "343  0.441   ...      14    1   26   17   136  2013-2014        2013   \n",
      "344  0.499   ...      36    9  151   86  1134  2013-2014        2013   \n",
      "347  0.467   ...     154    4  145  157  1185  2013-2014        2013   \n",
      "357  0.308   ...      68    5   87   97   213  2013-2014        2013   \n",
      "360  0.461   ...      67    2   60  132   252  2013-2014        2013   \n",
      "368  0.385   ...      32    8   66   92   306  2013-2014        2013   \n",
      "371  0.420   ...      43    7   95  132   677  2013-2014        2013   \n",
      "372  0.428   ...      36    4   58   92   457  2013-2014        2013   \n",
      "374  0.403   ...      40    2   99   65   350  2013-2014        2013   \n",
      "375  0.354   ...       5    1   34   15   159  2013-2014        2013   \n",
      "377  0.381   ...     191   11  221  218   781  2013-2014        2013   \n",
      "382  0.383   ...      17    0   61   54   183  2013-2014        2013   \n",
      "387  0.429   ...      49    9  148   90  1021  2013-2014        2013   \n",
      "388  0.000   ...       0    0    2    2     1  2013-2014        2013   \n",
      "399  0.423   ...      49   13   65   66   261  2013-2014        2013   \n",
      "415  0.341   ...      12    1   31   29    89  2013-2014        2013   \n",
      "416  0.438   ...      89   17  232  158  1304  2013-2014        2013   \n",
      "420  0.362   ...      13    0   27   48   159  2013-2014        2013   \n",
      "423  0.453   ...      93    8  213  185  1465  2013-2014        2013   \n",
      "431  0.200   ...       2    0    9   10     9  2013-2014        2013   \n",
      "450  0.393   ...      86   32  169  128  1289  2013-2014        2013   \n",
      "451  0.433   ...     149   40  295  219  1583  2013-2014        2013   \n",
      "453  0.429   ...       8    0    5   11    48  2013-2014        2013   \n",
      "454  0.437   ...      60    8   60   66   414  2013-2014        2013   \n",
      "455  0.273   ...       5    1   17   33    12  2013-2014        2013   \n",
      "459  0.437   ...      88    7  177  104  1002  2013-2014        2013   \n",
      "462  0.450   ...      93   13  143  148   915  2013-2014        2013   \n",
      "465  0.400   ...      45    4   92   65   625  2013-2014        2013   \n",
      "467  0.417   ...      55   10  149  197   721  2013-2014        2013   \n",
      "471  0.437   ...      35   15   57   67   417  2013-2014        2013   \n",
      "\n",
      "           ppg       atr  cluster  \n",
      "24   13.098592  2.504000        3  \n",
      "29    7.500000  1.684211        4  \n",
      "30    8.354430  2.424000        4  \n",
      "38    9.250000  2.365854        0  \n",
      "50    6.872727  3.009804        4  \n",
      "52   17.744186  1.643357        1  \n",
      "60   14.850000  0.885417        2  \n",
      "64    8.958333  1.991453        0  \n",
      "71   12.785714  3.022901        3  \n",
      "76    3.071429  1.000000        4  \n",
      "78    8.660714  2.097087        0  \n",
      "82    4.590909  1.047619        4  \n",
      "85   16.671429  1.785425        1  \n",
      "87    9.808219  2.203704        0  \n",
      "95    6.426829  1.952756        4  \n",
      "97   11.387500  2.250000        0  \n",
      "99   17.205479  2.940000        1  \n",
      "110  24.012821  2.265306        1  \n",
      "126   3.960784  2.000000        4  \n",
      "136  19.024390  1.784091        1  \n",
      "142  10.146341  2.094737        0  \n",
      "146   9.692308  2.829457        0  \n",
      "157   3.492958  1.600000        4  \n",
      "180   4.133333  2.142857        4  \n",
      "189   7.875000  3.016949        4  \n",
      "204  10.276316  2.880435        0  \n",
      "207   9.123288  2.383333        0  \n",
      "208  14.323529  2.552381        3  \n",
      "218  20.816901  2.278947        1  \n",
      "220   9.500000  2.436090        0  \n",
      "..         ...       ...      ...  \n",
      "343   4.689655  2.000000        4  \n",
      "344  16.676471  2.569536        1  \n",
      "347  19.112903  4.572414        1  \n",
      "357   2.840000  2.770115        4  \n",
      "360   3.818182  3.800000        4  \n",
      "368   5.016393  2.666667        4  \n",
      "371   9.402778  2.463158        0  \n",
      "372  10.386364  1.931034        0  \n",
      "374  11.666667  2.969697        0  \n",
      "375  15.900000  1.264706        2  \n",
      "377   9.524390  3.185520        0  \n",
      "382   3.734694  1.524590        4  \n",
      "387  12.301205  2.297297        2  \n",
      "388   0.333333  2.000000        4  \n",
      "399   3.728571  2.753846        4  \n",
      "415   3.869565  1.161290        4  \n",
      "416  16.506329  2.275862        1  \n",
      "420   4.542857  2.074074        4  \n",
      "423  20.347222  2.131455        1  \n",
      "431   1.125000  2.555556        4  \n",
      "450  17.657534  2.644970        1  \n",
      "451  19.304878  2.444068        1  \n",
      "453   5.333333  2.000000        4  \n",
      "454   6.571429  1.783333        4  \n",
      "455   0.500000  1.647059        4  \n",
      "459  21.782609  1.802260        1  \n",
      "462  14.296875  2.741259        3  \n",
      "465  10.416667  2.282609        0  \n",
      "467   9.743243  2.154362        0  \n",
      "471   7.189655  3.280702        4  \n",
      "\n",
      "[82 rows x 34 columns]\n"
     ]
    }
   ],
   "source": [
    "#the row/record will be assigned to the cluster that it is closest to (i.e. lowest distance).  so, let's create a column called cluster that will contain the cluster number the record belongs.   this step will be repeated so let's create a function so that it can called upon again and again.\n",
    "def assign_cluster(row):\n",
    "    lowest_distance = -1 #initialize distance = -1 so that each time a new row/record is loaded into this assign_cluster function, the distance will be reset\n",
    "    for cluster_id, centroid_coordinate in centroids_coordinates.items():\n",
    "        if lowest_distance == -1: #this will execute only once per row because the lowest_distance will change from -1 in the next line\n",
    "            lowest_distance = calculate_distance(centroid_coordinate,[row[\"ppg\"],row[\"atr\"]])\n",
    "            closest_cluster = cluster_id\n",
    "        elif calculate_distance(centroid_coordinate,[row[\"ppg\"],row[\"atr\"]]) < lowest_distance:\n",
    "            lowest_distance = calculate_distance(centroid_coordinate,[row[\"ppg\"],row[\"atr\"]])\n",
    "            closest_cluster = cluster_id\n",
    "    return closest_cluster\n",
    "\n",
    "def assign_clusters(df):\n",
    "    df[\"cluster\"]=df.apply(lambda row: assign_cluster(row),axis='columns') #explanation of axis https://www.youtube.com/watch?v=PtO3t6ynH-8.\n",
    "\n",
    "assign_clusters(point_guards)\n",
    "print point_guards"
   ]
  },
  {
   "cell_type": "code",
   "execution_count": 93,
   "metadata": {},
   "outputs": [
    {
     "data": {
      "text/plain": [
       "False"
      ]
     },
     "execution_count": 93,
     "metadata": {},
     "output_type": "execute_result"
    }
   ],
   "source": [
    "\n",
    "d = {'col1': [1,2, 3], 'col2': [1,2, 4]}\n",
    "df = pd.DataFrame(data=d)\n",
    "#print df\n",
    "#print \"axis=1 or axis=columns\"\n",
    "#print df.mean(axis=1)\n",
    "#print \"axis=0 or axis=rows\"\n",
    "#print df.mean(axis=0)\n",
    "#print df.apply(lambda x: x**2,axis=1)\n",
    "#print (df[\"col1\"]/df[df[\"col2\"]!=0])\n",
    "(df[\"col1\"]==df[\"col2\"]).all()"
   ]
  },
  {
   "cell_type": "code",
   "execution_count": 94,
   "metadata": {},
   "outputs": [
    {
     "data": {
      "image/png": "[encoded data removed]",
      "text/plain": [
       "<matplotlib.figure.Figure at 0xe3e9f60>"
      ]
     },
     "metadata": {},
     "output_type": "display_data"
    }
   ],
   "source": [
    "#visualize the clusters\n",
    "def visualize_clusters(df):\n",
    "    colours = ['b', 'g', 'r', 'c', 'm']\n",
    "    for cluster_id in range(0,df['cluster'].max()+1):\n",
    "        clustered_df = df[df[\"cluster\"]==cluster_id]\n",
    "        plt.scatter(x=clustered_df[\"ppg\"],y=clustered_df[\"atr\"],c=colours[cluster_id])\n",
    "    plt.xlabel(\"Points Per Game\")\n",
    "    plt.ylabel(\"Assist Turnover Ratio\")\n",
    "    plt.show()\n",
    "    \n",
    "visualize_clusters(point_guards)"
   ]
  },
  {
   "cell_type": "code",
   "execution_count": 95,
   "metadata": {},
   "outputs": [
    {
     "name": "stdout",
     "output_type": "stream",
     "text": [
      "{0: [9.890626971316275, 2.404918262724038], 1: [18.881281980075716, 2.418442738660092], 2: [13.74981934781379, 1.5609093728349244], 3: [13.679338962697756, 2.7534280793419046], 4: [4.598011098439251, 2.231405350231432]}\n"
     ]
    }
   ],
   "source": [
    "#recalculate centroids\n",
    "def recalculate_centroids(df):\n",
    "    for cluster_id in range(0,df['cluster'].max()+1):\n",
    "        clustered_df = df[df[\"cluster\"]==cluster_id]\n",
    "        centroids_coordinates[cluster_id] = [clustered_df[\"ppg\"].mean(),clustered_df[\"atr\"].mean()]\n",
    "    return centroids_coordinates\n",
    "\n",
    "centroids_coordinates = recalculate_centroids(point_guards)\n",
    "print centroids_coordinates"
   ]
  },
  {
   "cell_type": "code",
   "execution_count": 96,
   "metadata": {},
   "outputs": [
    {
     "data": {
      "image/png": "[encoded data removed]",
      "text/plain": [
       "<matplotlib.figure.Figure at 0xe6612b0>"
      ]
     },
     "metadata": {},
     "output_type": "display_data"
    }
   ],
   "source": [
    "#visualize the new clusters\n",
    "visualize_clusters(point_guards)"
   ]
  },
  {
   "cell_type": "code",
   "execution_count": 102,
   "metadata": {},
   "outputs": [
    {
     "data": {
      "image/png": "[encoded data removed]",
      "text/plain": [
       "<matplotlib.figure.Figure at 0xd3f6a58>"
      ]
     },
     "metadata": {},
     "output_type": "display_data"
    }
   ],
   "source": [
    "#keep recalculating the centroids and assigning clusters until the clusters no longer change (i.e. the points on the graph stay the same colour)\n",
    "recalculate_centroids(point_guards)\n",
    "assign_clusters(point_guards)\n",
    "visualize_clusters(point_guards)"
   ]
  }
 ],
 "metadata": {
  "kernelspec": {
   "display_name": "Python 2",
   "language": "python",
   "name": "python2"
  },
  "language_info": {
   "codemirror_mode": {
    "name": "ipython",
    "version": 2
   },
   "file_extension": ".py",
   "mimetype": "text/x-python",
   "name": "python",
   "nbconvert_exporter": "python",
   "pygments_lexer": "ipython2",
   "version": "2.7.14"
  }
 },
 "nbformat": 4,
 "nbformat_minor": 2
}
